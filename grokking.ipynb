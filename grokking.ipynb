{
  "nbformat": 4,
  "nbformat_minor": 0,
  "metadata": {
    "colab": {
      "provenance": [],
      "authorship_tag": "ABX9TyOVjdX4A0hrH+cDBln7xzi+",
      "include_colab_link": true
    },
    "kernelspec": {
      "name": "python3",
      "display_name": "Python 3"
    },
    "language_info": {
      "name": "python"
    }
  },
  "cells": [
    {
      "cell_type": "markdown",
      "metadata": {
        "id": "view-in-github",
        "colab_type": "text"
      },
      "source": [
        "<a href=\"https://colab.research.google.com/github/Suryapv26/grokking/blob/main/grokking.ipynb\" target=\"_parent\"><img src=\"https://colab.research.google.com/assets/colab-badge.svg\" alt=\"Open In Colab\"/></a>"
      ]
    },
    {
      "cell_type": "code",
      "execution_count": null,
      "metadata": {
        "colab": {
          "base_uri": "https://localhost:8080/"
        },
        "id": "wB9IfTcTM_7v",
        "outputId": "56cd7d04-6895-4815-f44a-585725189993"
      },
      "outputs": [
        {
          "output_type": "stream",
          "name": "stdout",
          "text": [
            "[[-4.35138810e-01 -4.97614283e-01 -9.98313253e-01  3.38146197e-01]\n",
            " [ 4.44053139e-01  5.87327950e-01  7.98973906e-01  4.87033608e-01]\n",
            " [ 1.61076120e-04  7.79269362e-02  5.32096810e-01 -1.22278564e-01]]\n"
          ]
        }
      ],
      "source": [
        "import numpy as np\n",
        "\n",
        "# sigmoid function\n",
        "def nonlin(x,deriv=False):\n",
        "    if(deriv==True):\n",
        "        return x*(1-x)\n",
        "    return 1/(1+np.exp(-x))\n",
        "    \n",
        "# input dataset\n",
        "X = np.array([  [0,0,1],\n",
        "                [0,1,1],\n",
        "                [1,0,1],\n",
        "                [1,1,1] ])\n",
        "    \n",
        "# output dataset            \n",
        "y = np.array([[0,0,1,1]]).T\n",
        "\n",
        "# seed random numbers to make calculation\n",
        "# deterministic (just a good practice)\n",
        "np.random.seed(1)\n",
        "\n",
        "# initialize weights randomly with mean 0\n",
        "syn0 = 2*np.random.random((3,1)) - 1\n",
        "\n",
        "for iter in range(10000):\n",
        "\n",
        "    # forward propagation\n",
        "    l0 = X\n",
        "    l1 = nonlin(np.dot(l0,syn0))\n",
        "\n",
        "    # how much did we miss?\n",
        "    l1_error = y - l1\n",
        "\n",
        "    # multiply how much we missed by the \n",
        "    # slope of the sigmoid at the values in l1\n",
        "    l1_delta = l1_error * nonlin(l1,True)\n",
        "\n",
        "    # update weights\n",
        "    syn0 += np.dot(l0.T,l1_delta)\n",
        "\n",
        "print(\"Output After Training:\")\n",
        "print( l1)\n"
      ]
    },
    {
      "cell_type": "code",
      "source": [
        "print(syn1)"
      ],
      "metadata": {
        "colab": {
          "base_uri": "https://localhost:8080/"
        },
        "id": "ALaJtujdNZUJ",
        "outputId": "afc672b1-4296-44a0-ac5b-743304a322de"
      },
      "execution_count": null,
      "outputs": [
        {
          "output_type": "stream",
          "name": "stdout",
          "text": [
            "[[  7.64943484]\n",
            " [  5.79155226]\n",
            " [-11.76607748]\n",
            " [  5.82473144]]\n"
          ]
        }
      ]
    },
    {
      "cell_type": "code",
      "source": [
        "syn1 = 2*np.random.random((4,1)) - 1\n",
        "syn1"
      ],
      "metadata": {
        "colab": {
          "base_uri": "https://localhost:8080/"
        },
        "id": "LcVsQ1Rs_C-H",
        "outputId": "a44a3c52-f01f-438a-c42a-7c4cd489e8d7"
      },
      "execution_count": null,
      "outputs": [
        {
          "output_type": "execute_result",
          "data": {
            "text/plain": [
              "array([[-0.45450275],\n",
              "       [-0.84102856],\n",
              "       [-0.19527306],\n",
              "       [-0.35265807]])"
            ]
          },
          "metadata": {},
          "execution_count": 6
        }
      ]
    },
    {
      "cell_type": "markdown",
      "source": [
        "chapter3-code\n"
      ],
      "metadata": {
        "id": "wAHGoU6niID5"
      }
    },
    {
      "cell_type": "code",
      "source": [
        "import numpy as np\n",
        "ih_wts = np.array([[0.1,0.2,-0.1],\n",
        "                   [-0.1,0.1,0.9],\n",
        "                   [0.1,0.4,0.1]]).T\n",
        "hp_wt = np.array([[0.3,1.1,-0.3],\n",
        "                   [0.1,0.2,0.0],\n",
        "                  [0.0,1.3,0.1]]).T\n",
        "\n",
        "weights = [ih_wts,hp_wt]\n",
        "\n",
        "def neural(ip ,wts):\n",
        "  print(ip,wts[0])\n",
        "  hid = ip.dot(wts[0])\n",
        "  print(hid)\n",
        "  pred = hid.dot(wts[1])\n",
        "  return pred\n",
        "\n",
        "t = np.array([8.5,9.5,9.9,9.0])\n",
        "w = np.array([0.65,0.8,0.8,0.9])\n",
        "n = np.array([1.2,1.3,0.5,1.0])\n",
        "\n",
        "input = np.array([t[0],w[0],n[0]])\n",
        "#print(input,weights)\n",
        "pred = neural(input,weights)\n",
        "print(pred)"
      ],
      "metadata": {
        "colab": {
          "base_uri": "https://localhost:8080/"
        },
        "id": "jzN7ry14hAQ9",
        "outputId": "426041f3-0228-48bd-f1d4-e1210d2392a7"
      },
      "execution_count": 7,
      "outputs": [
        {
          "output_type": "stream",
          "name": "stdout",
          "text": [
            "[8.5  0.65 1.2 ] [[ 0.1 -0.1  0.1]\n",
            " [ 0.2  0.1  0.4]\n",
            " [-0.1  0.9  0.1]]\n",
            "[0.86  0.295 1.23 ]\n",
            "[0.2135 0.145  0.5065]\n"
          ]
        }
      ]
    },
    {
      "cell_type": "code",
      "source": [],
      "metadata": {
        "id": "Qm_APC_rj05a"
      },
      "execution_count": null,
      "outputs": []
    }
  ]
}